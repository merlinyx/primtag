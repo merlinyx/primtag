{
 "cells": [
  {
   "cell_type": "code",
   "execution_count": 1,
   "metadata": {},
   "outputs": [],
   "source": [
    "import numpy as np\n",
    "import torch\n",
    "import meshplot as mp # useful for visualizing\n",
    "from matplotlib import pyplot as plt\n",
    "from tqdm.notebook import tqdm"
   ]
  },
  {
   "cell_type": "code",
   "execution_count": 2,
   "metadata": {},
   "outputs": [
    {
     "name": "stdout",
     "output_type": "stream",
     "text": [
      "<class 'trimesh.caching.TrackedArray'>\n"
     ]
    },
    {
     "data": {
      "application/vnd.jupyter.widget-view+json": {
       "model_id": "c339a3dbc6b74f3fb49d1172616c03d2",
       "version_major": 2,
       "version_minor": 0
      },
      "text/plain": [
       "Renderer(camera=PerspectiveCamera(children=(DirectionalLight(color='white', intensity=0.6, position=(4.5935592…"
      ]
     },
     "metadata": {},
     "output_type": "display_data"
    },
    {
     "data": {
      "text/plain": [
       "<meshplot.Viewer.Viewer at 0x123773670>"
      ]
     },
     "execution_count": 2,
     "metadata": {},
     "output_type": "execute_result"
    }
   ],
   "source": [
    "# Loading a mesh and do uniformly samplings on the surface.\n",
    "\n",
    "import trimesh\n",
    "import numpy as np\n",
    "\n",
    "# Load your mesh using trimesh\n",
    "# mesh = trimesh.load_mesh('slack_files/clip_20_15_1_15_10.obj')\n",
    "# mesh = trimesh.load_mesh('cloth_hanger.obj')\n",
    "mesh = trimesh.load_mesh('step2/reduced_mesh/segmentedHook.obj')\n",
    "\n",
    "# the code below is for plotting the original mesh\n",
    "# vertices = mesh.vertices\n",
    "# faces = mesh.faces\n",
    "# mp.plot(vertices, faces, shading={\"wireframe\": True})\n",
    "\n",
    "\n",
    "# Sample points uniformly from the surface of the mesh\n",
    "points, _ = trimesh.sample.sample_surface_even(mesh, 1000)  # sample normally? \n",
    "print(type(points))\n",
    "points_numpy = np.array(points)\n",
    "points = torch.tensor(points)\n",
    "\n",
    "\n",
    "# points = points.unsqueeze(0).float() # only do this after loading the input mesh?\n",
    "\n",
    "# Plot the sampled points using MeshPlot\n",
    "mp.plot(points_numpy, shading={'point_size':5})  # Here we're coloring the points based on their z-coordinate"
   ]
  },
  {
   "cell_type": "code",
   "execution_count": 3,
   "metadata": {},
   "outputs": [
    {
     "data": {
      "text/plain": [
       "'rod(1, 6.782329983125268);'"
      ]
     },
     "execution_count": 3,
     "metadata": {},
     "output_type": "execute_result"
    }
   ],
   "source": [
    "# Sample from a cylinder\n",
    "# Parameters:\n",
    "# center (x,y,z)\n",
    "# axis (a_x, a_y, a_z)\n",
    "# radius\n",
    "#\n",
    "# surface parameterization:\n",
    "# u,v\n",
    "#\n",
    "# Equation:\n",
    "# s(u,v) = C + radius * x_dir cos(u) + radius * y_dir sin(u) + axis * v\n",
    "\n",
    "\n",
    "# parameters[3:6] is the coordinates for the middle line  \n",
    "def cylinder(parameters, coordinates):\n",
    "    center = parameters[:3]\n",
    "    axis = parameters[3:6]\n",
    "    radius = parameters[6]\n",
    "    z_dir = axis / torch.linalg.norm(axis)\n",
    "\n",
    "    if torch.linalg.norm(z_dir - torch.tensor([1.,0,0])) < .000001:\n",
    "        y_dir = torch.tensor([0,1.,0])\n",
    "    else:\n",
    "        y_dir = torch.cross(z_dir, torch.tensor([1.,0,0]))\n",
    "    x_dir = torch.cross(y_dir, z_dir)\n",
    "\n",
    "    # coordinates = torch.rand((1000,2)) (REMOVE THIS COMMENT IF REFACTERING COORDINATES!)\n",
    "    u = coordinates[:,:1]\n",
    "    v = coordinates[:,1:]\n",
    "\n",
    "    return center + radius * x_dir * torch.cos(2*torch.pi*u) + radius * y_dir * torch.sin(2*torch.pi*u) + axis * v\n",
    "\n",
    "# this function assumes that the cylinder param. is already optimal \n",
    "def cylinder_to_openscad(parameters):\n",
    "    center = parameters[:3]\n",
    "    axis = parameters[3:6]\n",
    "    axis = np.array(axis)\n",
    "    radius = parameters[6]\n",
    "    return f\"rod({radius}, {np.linalg.norm(axis)});\"\n",
    "\n",
    "cylinder_to_openscad([0.,0,0,3,1,6,1])\n",
    "\n",
    "# example usage: \n",
    "# init_parameters = torch.tensor([0.,0,0,0,0,6,1])\n",
    "# uv_coordinates = torch.rand((1000,2))\n",
    "# points_cyl = cylinder(init_parameters, uv_coordinates).numpy()\n",
    "# mp.plot(points_cyl, shading={'point_size':.2})"
   ]
  },
  {
   "cell_type": "code",
   "execution_count": 4,
   "metadata": {},
   "outputs": [
    {
     "data": {
      "application/vnd.jupyter.widget-view+json": {
       "model_id": "737040b3bb2a4569ad103a6dd5987dfc",
       "version_major": 2,
       "version_minor": 0
      },
      "text/plain": [
       "  0%|          | 0/5000 [00:00<?, ?it/s]"
      ]
     },
     "metadata": {},
     "output_type": "display_data"
    },
    {
     "name": "stderr",
     "output_type": "stream",
     "text": [
      "/var/folders/92/zc1_s6n94nz1z_gwqp60znxh0000gn/T/ipykernel_1435/1784473459.py:24: UserWarning: Using torch.cross without specifying the dim arg is deprecated.\n",
      "Please either pass the dim explicitly or simply use torch.linalg.cross.\n",
      "The default value of dim will change to agree with that of linalg.cross in a future release. (Triggered internally at /Users/stanleyyang/pytorch/aten/src/ATen/native/Cross.cpp:66.)\n",
      "  y_dir = torch.cross(z_dir, torch.tensor([1.,0,0]))\n"
     ]
    },
    {
     "data": {
      "text/plain": [
       "[<matplotlib.lines.Line2D at 0x1479a38b0>]"
      ]
     },
     "execution_count": 4,
     "metadata": {},
     "output_type": "execute_result"
    },
    {
     "data": {
      "image/png": "[encoded data removed]",
      "text/plain": [
       "<Figure size 640x480 with 1 Axes>"
      ]
     },
     "metadata": {},
     "output_type": "display_data"
    }
   ],
   "source": [
    "# diff. learning on a certain mesh input\n",
    "\n",
    "import pytorch3d \n",
    "from pytorch3d.loss import chamfer_distance\n",
    "\n",
    "opt_parameters_init_stage = torch.tensor([0.2,-0.2,0.3,0.1,-0.2,5.8,1.3]) # an initial parameter close to the given param\n",
    "# opt_parameters_init_stage = torch.tensor([-22.,-232,773,881,-772,788,13]) # init param far from the given param\n",
    "\n",
    "opt_params = torch.rand_like(opt_parameters_init_stage) # initializing it?\n",
    "opt_params.requires_grad = True\n",
    "optimizer = torch.optim.SGD([opt_params], 1e-3)\n",
    "uv_coordinates = torch.rand((1000,2))\n",
    "losses = []\n",
    "\n",
    "## TODO: a different sampler (sample from the interior)!  write more primitive variants!\n",
    "# fix on the messy types!\n",
    "# connect w/ mingsheng \n",
    "# https://pytorch.org/docs/stable/generated/torch.Tensor.view.html\n",
    "# https://wias-berlin.de/software/index.jsp?id=TetGen&lang=1\n",
    "\n",
    "\n",
    "points = points.view(1, -1, 3) \n",
    "\n",
    "for _ in tqdm(range(5000)): # for the progress bar\n",
    "    optimizer.zero_grad()\n",
    "    opt_points = cylinder(opt_params, uv_coordinates)\n",
    "    # opt_points = torch.reshape(opt_points, (1, -1, 3))  # Assuming single batch, adjust N if needed\n",
    "    opt_points = opt_points.view(1, -1, 3)\n",
    "\n",
    "    # loss = ((points - opt_points)**2).sum() # TODO: change to champfer loss | volume matrix sampling | closed meshes?\n",
    "    loss = chamfer_distance(x = points.float(), y = opt_points.float()) # returns a 2-element tuple? I suppose the first element is what we want\n",
    "    loss = loss[0]\n",
    "    \n",
    "    loss.backward()\n",
    "    optimizer.step()\n",
    "    losses.append(loss.detach().item())\n",
    "plt.plot(losses)"
   ]
  },
  {
   "cell_type": "code",
   "execution_count": 5,
   "metadata": {},
   "outputs": [
    {
     "data": {
      "application/vnd.jupyter.widget-view+json": {
       "model_id": "097e0290a08142b9aef72533d5d7903c",
       "version_major": 2,
       "version_minor": 0
      },
      "text/plain": [
       "Renderer(camera=PerspectiveCamera(children=(DirectionalLight(color='white', intensity=0.6, position=(4.5935592…"
      ]
     },
     "metadata": {},
     "output_type": "display_data"
    },
    {
     "data": {
      "text/plain": [
       "1"
      ]
     },
     "execution_count": 5,
     "metadata": {},
     "output_type": "execute_result"
    }
   ],
   "source": [
    "points = points.reshape(-1, 1, 3)\n",
    "# plot = mp.plot(points.numpy(), return_plot=True, shading={'point_size':.5})\n",
    "plot = mp.plot(np.array(points), return_plot=True, shading={'point_size':.5})\n",
    "\n",
    "opt_points = opt_points.reshape(-1, 1, 3)\n",
    "plot.add_points(opt_points.detach().numpy(), shading={'point_size':.5, 'point_color':'green'})"
   ]
  },
  {
   "cell_type": "code",
   "execution_count": 6,
   "metadata": {},
   "outputs": [],
   "source": [
    "# other primitives:\n",
    "\n",
    "# Sample from a hole\n",
    "# Parameters:\n",
    "# center (x,y,z)\n",
    "# axis (a_x, a_y, a_z)\n",
    "# inner radius \n",
    "# outer radius\n",
    "#\n",
    "\n",
    "# surface parameterization:\n",
    "# u,v\n",
    "#\n",
    "# Equation:\n",
    "# s(u,v) = C + radius * x_dir cos(u) + radius * y_dir sin(u) + axis * v\n",
    "\n",
    "import numpy as np\n",
    "\n",
    "def torus(parameters, coordinates):\n",
    "    center = parameters[:3]\n",
    "    axis = parameters[3:6]\n",
    "    # inner_radius = parameters[6]\n",
    "    # outer_radius = parameters[7]\n",
    "    R = parameters[6] ** 2\n",
    "    r = parameters[7] ** 2\n",
    "    z_dir = axis / torch.linalg.norm(axis)\n",
    "    \n",
    "    if torch.linalg.norm(z_dir - torch.tensor([1.,0,0])) < .000001:\n",
    "        y_dir = torch.tensor([0,1.,0])\n",
    "    else:\n",
    "        y_dir = torch.cross(z_dir, torch.tensor([1.,0,0]))\n",
    "    x_dir = torch.cross(y_dir, z_dir)\n",
    "    \n",
    "    u = coordinates[:, :1]\n",
    "    v = coordinates[:, 1:]\n",
    "\n",
    "    return (center + x_dir * (R * torch.cos(2*torch.pi * u) + r * torch.cos(2*torch.pi * u) * torch.cos(2*torch.pi * v)) \n",
    "                   + y_dir * (R * torch.sin(2*torch.pi * u) + r * torch.sin(2*torch.pi * u) * torch.cos(2*torch.pi * v)) \n",
    "                   + z_dir * r * torch.sin(2*torch.pi * v)\n",
    "    )\n",
    "    # return np.stack((x, y, z), axis=-1)\n",
    "\n",
    "# work on other param. and convert to openscad\n",
    "\n",
    "# parameters = torch.tensor([0., 0, 0, 0, 0, 1, 3, 0.5])  # Center (x,y,z), axis (x,y,z), inner radius, outer radius\n",
    "# coordinates = torch.rand((1000, 2))\n",
    "# points = torus(parameters, coordinates).numpy()\n",
    "\n",
    "# mp.plot(points, shading={'point_size':.2})"
   ]
  },
  {
   "cell_type": "code",
   "execution_count": 7,
   "metadata": {},
   "outputs": [
    {
     "data": {
      "application/vnd.jupyter.widget-view+json": {
       "model_id": "059ea38c94c949e9b91b518fab890c59",
       "version_major": 2,
       "version_minor": 0
      },
      "text/plain": [
       "  0%|          | 0/5000 [00:00<?, ?it/s]"
      ]
     },
     "metadata": {},
     "output_type": "display_data"
    },
    {
     "data": {
      "text/plain": [
       "[<matplotlib.lines.Line2D at 0x147ab9160>]"
      ]
     },
     "execution_count": 7,
     "metadata": {},
     "output_type": "execute_result"
    },
    {
     "data": {
      "image/png": "[encoded data removed]",
      "text/plain": [
       "<Figure size 640x480 with 1 Axes>"
      ]
     },
     "metadata": {},
     "output_type": "display_data"
    }
   ],
   "source": [
    "# diff. learning on a certain mesh input\n",
    "\n",
    "import pytorch3d \n",
    "from pytorch3d.loss import chamfer_distance\n",
    "\n",
    "opt_parameters_init_stage = torch.tensor([0.1,-0.1,0.1,0.1,-0.2,5,3, 2]) # an initial parameter close to the given param\n",
    "# opt_parameters_init_stage = torch.tensor([-22.,-232,773,881,-772,788,13]) # init param far from the given param\n",
    "\n",
    "opt_params = torch.rand_like(opt_parameters_init_stage) # initializing it?\n",
    "opt_params.requires_grad = True\n",
    "optimizer = torch.optim.SGD([opt_params], 1e-3)\n",
    "uv_coordinates = torch.rand((1000,2))\n",
    "losses = []\n",
    "\n",
    "## TODO: a different sampler (sample from the interior)!  write more primitive variants!\n",
    "# fix on the messy types!\n",
    "# connect w/ mingsheng \n",
    "# https://pytorch.org/docs/stable/generated/torch.Tensor.view.html\n",
    "# https://wias-berlin.de/software/index.jsp?id=TetGen&lang=1\n",
    "\n",
    "points = points.view(1, -1, 3) \n",
    "\n",
    "# WARNING: if you encounter an error at this line, where it says points.view not working,\n",
    "# please simply load the mesh again and run this code block. it should work then.\n",
    "\n",
    "for _ in tqdm(range(5000)): # for the progress bar\n",
    "    optimizer.zero_grad()\n",
    "    opt_points = torus(opt_params, uv_coordinates)\n",
    "    # opt_points = torch.reshape(opt_points, (1, -1, 3))  # Assuming single batch, adjust N if needed\n",
    "    opt_points = opt_points.view(1, -1, 3)\n",
    "\n",
    "    # loss = ((points - opt_points)**2).sum() # TODO: change to champfer loss | volume matrix sampling | closed meshes?\n",
    "    loss = chamfer_distance(x = points.float(), y = opt_points.float()) # returns a 2-element tuple? I suppose the first element is what we want\n",
    "    loss = loss[0]\n",
    "    \n",
    "    loss.backward()\n",
    "    optimizer.step()\n",
    "    losses.append(loss.detach().item())\n",
    "\n",
    "\n",
    "plt.plot(losses)"
   ]
  },
  {
   "cell_type": "code",
   "execution_count": 8,
   "metadata": {},
   "outputs": [
    {
     "name": "stdout",
     "output_type": "stream",
     "text": [
      "tensor([ 1.9850e+00, -2.5805e+01,  1.1417e+02,  1.9347e+00, -4.2628e-02,\n",
      "         9.9565e-01,  3.3774e-15,  4.8285e+00], requires_grad=True)\n"
     ]
    },
    {
     "data": {
      "application/vnd.jupyter.widget-view+json": {
       "model_id": "c8246986c5274e719390123976b3d194",
       "version_major": 2,
       "version_minor": 0
      },
      "text/plain": [
       "Renderer(camera=PerspectiveCamera(children=(DirectionalLight(color='white', intensity=0.6, position=(4.5935592…"
      ]
     },
     "metadata": {},
     "output_type": "display_data"
    },
    {
     "data": {
      "text/plain": [
       "1"
      ]
     },
     "execution_count": 8,
     "metadata": {},
     "output_type": "execute_result"
    }
   ],
   "source": [
    "print(opt_params)\n",
    "\n",
    "points = points.reshape(-1, 1, 3)\n",
    "# plot = mp.plot(points.numpy(), return_plot=True, shading={'point_size':.5})\n",
    "plot = mp.plot(np.array(points), return_plot=True, shading={'point_size':5})\n",
    "\n",
    "\n",
    "\n",
    "\n",
    "opt_points = opt_points.reshape(-1, 1, 3)\n",
    "plot.add_points(opt_points.detach().numpy(), shading={'point_size':5, 'point_color':'green'})"
   ]
  },
  {
   "cell_type": "code",
   "execution_count": 9,
   "metadata": {},
   "outputs": [
    {
     "name": "stdout",
     "output_type": "stream",
     "text": [
      "Sampled Points on the Rectangle:\n",
      "tensor([[0.6452, 1.7787, 0.0000],\n",
      "        [0.9201, 0.8439, 0.0000],\n",
      "        [0.2254, 1.2334, 0.0000],\n",
      "        ...,\n",
      "        [0.7621, 0.5073, 0.0000],\n",
      "        [0.9132, 0.1460, 0.0000],\n",
      "        [0.4942, 0.7811, 0.0000]])\n"
     ]
    },
    {
     "data": {
      "application/vnd.jupyter.widget-view+json": {
       "model_id": "f87f642b39774384be0a33b6dc73afa8",
       "version_major": 2,
       "version_minor": 0
      },
      "text/plain": [
       "Renderer(camera=PerspectiveCamera(children=(DirectionalLight(color='white', intensity=0.6, position=(0.4994356…"
      ]
     },
     "metadata": {},
     "output_type": "display_data"
    }
   ],
   "source": [
    "import torch\n",
    "\n",
    "def uniform_sampling_on_rectangle(vertices, num_samples=1000):\n",
    "    \"\"\"\n",
    "    Perform uniform sampling on a rectangle defined by four vertices.\n",
    "    \n",
    "    Args:\n",
    "        vertices (torch.Tensor): Tensor representing the four vertices of the rectangle (A, B, C, D).\n",
    "                                  Each row contains the coordinates (x, y, z) of a vertex.\n",
    "        num_samples (int): Number of points to sample. Default is 1000.\n",
    "        \n",
    "    Returns:\n",
    "        sampled_points (torch.Tensor): Sampled points within the rectangle.\n",
    "    \"\"\"\n",
    "    # Calculate lengths of the rectangle along each axis\n",
    "    lengths_AB = torch.norm(vertices[1] - vertices[0])\n",
    "    lengths_AD = torch.norm(vertices[3] - vertices[0])\n",
    "    \n",
    "    # Generate random points within the rectangle\n",
    "    u = torch.rand(num_samples)\n",
    "    v = torch.rand(num_samples)\n",
    "    \n",
    "    # Compute points within the rectangle\n",
    "    points_on_rectangle = vertices[0] + u.view(-1, 1) * (vertices[1] - vertices[0]) + v.view(-1, 1) * (vertices[3] - vertices[0])\n",
    "    \n",
    "    return points_on_rectangle\n",
    "\n",
    "# Example usage:\n",
    "vertex_A = torch.tensor([0.0, 0.0, 0.0])\n",
    "vertex_B = torch.tensor([1.0, 0.0, 0.0])\n",
    "vertex_C = torch.tensor([1.0, 10.0, 0.0])\n",
    "vertex_D = torch.tensor([0.0, 2.0, 0.0])\n",
    "\n",
    "vertices = torch.stack([vertex_A, vertex_B, vertex_C, vertex_D])\n",
    "\n",
    "sampled_points = uniform_sampling_on_rectangle(vertices)\n",
    "\n",
    "# Print the sampled points\n",
    "print(\"Sampled Points on the Rectangle:\")\n",
    "print(sampled_points)\n",
    "\n",
    "\n",
    "plot = mp.plot(np.array(sampled_points), return_plot=True, shading={'point_size':.2})\n"
   ]
  },
  {
   "cell_type": "code",
   "execution_count": 10,
   "metadata": {},
   "outputs": [
    {
     "data": {
      "application/vnd.jupyter.widget-view+json": {
       "model_id": "c6d038a8c1b54392bf3b90c47c327587",
       "version_major": 2,
       "version_minor": 0
      },
      "text/plain": [
       "Renderer(camera=PerspectiveCamera(children=(DirectionalLight(color='white', intensity=0.6, position=(0.0, 0.0,…"
      ]
     },
     "metadata": {},
     "output_type": "display_data"
    },
    {
     "data": {
      "text/plain": [
       "<meshplot.Viewer.Viewer at 0x147a75bb0>"
      ]
     },
     "execution_count": 10,
     "metadata": {},
     "output_type": "execute_result"
    }
   ],
   "source": [
    "# other primitives:\n",
    "\n",
    "# Sample from a hole\n",
    "# Parameters:\n",
    "# center (x,y,z)\n",
    "# axis (a_x, a_y, a_z)\n",
    "# inner radius \n",
    "# outer radius\n",
    "#\n",
    "\n",
    "# surface parameterization:\n",
    "# u,v\n",
    "#\n",
    "# Equation:\n",
    "# s(u,v) = C + radius * x_dir cos(u) + radius * y_dir sin(u) + axis * v\n",
    "\n",
    "import numpy as np\n",
    "\n",
    "import torch\n",
    "from pytorch3d.structures import Meshes\n",
    "\n",
    "def rectangle(parameters, coordinates):\n",
    "    center = parameters[:3]\n",
    "    axis = parameters[3:6]\n",
    "    # param = sorted(parameters[7:]) # should we assume length >= width >= height?\n",
    "    length = parameters[6]\n",
    "    width = parameters[7]\n",
    "    height = parameters[8]\n",
    "    \n",
    "    z_dir = axis / torch.linalg.norm(axis)\n",
    "    \n",
    "    if torch.linalg.norm(z_dir - torch.tensor([1.,0,0])) < .000001:\n",
    "        y_dir = torch.tensor([0,1.,0])\n",
    "    else:\n",
    "        y_dir = torch.cross(z_dir, torch.tensor([1.,0,0]))\n",
    "    x_dir = torch.cross(y_dir, z_dir)\n",
    "    \n",
    "    u = coordinates[:, :1]\n",
    "    v = coordinates[:, 1:] # we are not directly using u, v parametrization here.\n",
    "    # idea: do a uniform sampling from each surface\n",
    "\n",
    "    half_length = length / 2\n",
    "    half_width = width / 2\n",
    "    half_height = height / 2\n",
    "    \n",
    "    vertices = torch.tensor([\n",
    "        [1, 1, 1], [1, 1, -1], [1, -1, 1], [1, -1, -1],\n",
    "        [-1, 1, 1], [-1, 1, -1], [-1, -1, 1], [-1, -1, -1]\n",
    "    ], dtype=torch.float32)\n",
    "\n",
    "    vertices = vertices * torch.tensor([half_length, half_width, half_height], dtype=torch.float32)\n",
    "    vertices = vertices + center # Might need to do .unsqueeze(0)\n",
    "\n",
    "    faces = [\n",
    "        [vertices[0], vertices[1], vertices[5], vertices[4]],  # Front face (ABFE)\n",
    "        [vertices[0], vertices[1], vertices[3], vertices[2]],  # Top face (ABCD)\n",
    "        [vertices[4], vertices[5], vertices[7], vertices[6]],  # Bottom face (EFGH)\n",
    "        [vertices[2], vertices[3], vertices[7], vertices[6]],  # Back face (CDHG)\n",
    "        [vertices[0], vertices[2], vertices[6], vertices[4]],  # Right face (ADHE)\n",
    "        [vertices[1], vertices[3], vertices[7], vertices[5]]   # Left face (BFGC)\n",
    "    ]\n",
    "    \n",
    "    # Sample points on each face\n",
    "    sampled_points_on_faces = []\n",
    "    for face_vertices in faces:\n",
    "        sampled_points_on_face = uniform_sampling_on_rectangle(torch.stack(face_vertices), 1000)\n",
    "        sampled_points_on_faces.append(sampled_points_on_face)\n",
    "    \n",
    "    # Combine points on all faces\n",
    "    sampled_points = torch.cat(sampled_points_on_faces, dim=0)\n",
    "    \n",
    "    return sampled_points\n",
    "\n",
    "\n",
    "parameters = torch.tensor([0., 0, 0, 0, 0, 1, 5, 3, 2])  # Center (x,y,z), axis (x,y,z), inner radius, outer radius\n",
    "coordinates = torch.rand((1000, 2))\n",
    "points = rectangle(parameters, coordinates).numpy()\n",
    "\n",
    "mp.plot(points, shading={'point_size':.2})"
   ]
  },
  {
   "cell_type": "code",
   "execution_count": 11,
   "metadata": {},
   "outputs": [
    {
     "data": {
      "application/vnd.jupyter.widget-view+json": {
       "model_id": "f2475e351b4340a48ec9cb2b0a494ce3",
       "version_major": 2,
       "version_minor": 0
      },
      "text/plain": [
       "Renderer(camera=PerspectiveCamera(children=(DirectionalLight(color='white', intensity=0.6, position=(-0.002134…"
      ]
     },
     "metadata": {},
     "output_type": "display_data"
    },
    {
     "data": {
      "text/plain": [
       "<meshplot.Viewer.Viewer at 0x147ade160>"
      ]
     },
     "execution_count": 11,
     "metadata": {},
     "output_type": "execute_result"
    }
   ],
   "source": [
    "def hemisphere(parameters, coordinates, num_samples=1000):\n",
    "    center = parameters[:3]\n",
    "    axis = parameters[3:6]\n",
    "    radius = parameters[6]\n",
    "    z_dir = axis / torch.linalg.norm(axis) # assume the hemisphere is on the positive z-axis\n",
    "\n",
    "    if torch.linalg.norm(z_dir - torch.tensor([1.,0,0])) < .000001:\n",
    "        y_dir = torch.tensor([0,1.,0])\n",
    "    else:\n",
    "        y_dir = torch.cross(z_dir, torch.tensor([1.,0,0]))\n",
    "    x_dir = torch.cross(y_dir, z_dir)\n",
    "\n",
    "    u = coordinates[:,:1]\n",
    "    v = coordinates[:,1:]\n",
    "\n",
    "    return (center + x_dir * radius * torch.sin(torch.pi / 2 * v) * torch.cos(2*torch.pi * u)\n",
    "                   + y_dir * radius * torch.sin(torch.pi / 2 * v) * torch.sin(2*torch.pi * u) \n",
    "                   + z_dir * radius * torch.cos(torch.pi / 2 * v)\n",
    "    )\n",
    "\n",
    "\n",
    "parameters = torch.tensor([0., 0, 0, 0, 0, 1, 5])\n",
    "coordinates = torch.rand((1000, 2))\n",
    "points = hemisphere(parameters, coordinates).numpy()\n",
    "\n",
    "mp.plot(points, shading={'point_size':.5})"
   ]
  },
  {
   "cell_type": "code",
   "execution_count": 12,
   "metadata": {},
   "outputs": [
    {
     "data": {
      "application/vnd.jupyter.widget-view+json": {
       "model_id": "e26c3ce8e15943478d9e13b573cb148c",
       "version_major": 2,
       "version_minor": 0
      },
      "text/plain": [
       "Renderer(camera=PerspectiveCamera(children=(DirectionalLight(color='white', intensity=0.6, position=(-0.069500…"
      ]
     },
     "metadata": {},
     "output_type": "display_data"
    },
    {
     "data": {
      "text/plain": [
       "<meshplot.Viewer.Viewer at 0x147b13be0>"
      ]
     },
     "execution_count": 12,
     "metadata": {},
     "output_type": "execute_result"
    }
   ],
   "source": [
    "# other primitives:\n",
    "\n",
    "# Sample from a hole\n",
    "# Parameters:\n",
    "# center (x,y,z)\n",
    "# axis (a_x, a_y, a_z)\n",
    "# inner radius \n",
    "# outer radius\n",
    "#\n",
    "\n",
    "# surface parameterization:\n",
    "# u,v\n",
    "#\n",
    "# Equation:\n",
    "# s(u,v) = C + radius * x_dir cos(u) + radius * y_dir sin(u) + axis * v\n",
    "\n",
    "import numpy as np\n",
    "\n",
    "def hook(parameters, coordinates):\n",
    "    center = parameters[:3]\n",
    "    axis = parameters[3:6]\n",
    "    R = parameters[6]\n",
    "    r = parameters[7]\n",
    "    u_range = parameters[8] % 360 # expected to be in range [0, 360]\n",
    "    \n",
    "    z_dir = axis / torch.linalg.norm(axis)\n",
    "    \n",
    "    if torch.linalg.norm(z_dir - torch.tensor([1.,0,0])) < .000001:\n",
    "        y_dir = torch.tensor([0,1.,0])\n",
    "    else:\n",
    "        y_dir = torch.cross(z_dir, torch.tensor([1.,0,0]))\n",
    "    x_dir = torch.cross(y_dir, z_dir)\n",
    "    \n",
    "    u = coordinates[:, :1]\n",
    "    v = coordinates[:, 1:]\n",
    "\n",
    "    return (center + x_dir * (R * torch.cos(2*torch.pi * u_range / 360 * u) + r * torch.cos(2*torch.pi * u_range / 360 * u) * torch.cos(2*torch.pi * v)) \n",
    "                   + y_dir * (R * torch.sin(2*torch.pi * u_range / 360 * u) + r * torch.sin(2*torch.pi * u_range / 360 * u) * torch.cos(2*torch.pi * v)) \n",
    "                   + z_dir * r * torch.sin(2*torch.pi * v)\n",
    "    )\n",
    "    # return np.stack((x, y, z), axis=-1)\n",
    "\n",
    "def tube(parameters, coordinates):\n",
    "    center = parameters[:3]\n",
    "    axis = parameters[3:6]\n",
    "    R = parameters[6]\n",
    "    r = parameters[7]\n",
    "    z_dir = axis / torch.linalg.norm(axis)\n",
    "\n",
    "    if torch.linalg.norm(z_dir - torch.tensor([1.,0,0])) < .000001:\n",
    "        y_dir = torch.tensor([0,1.,0])\n",
    "    else:\n",
    "        y_dir = torch.cross(z_dir, torch.tensor([1.,0,0]))\n",
    "    x_dir = torch.cross(y_dir, z_dir)\n",
    "\n",
    "    # coordinates = torch.rand((1000,2)) (REMOVE THIS COMMENT IF REFACTERING COORDINATES!)\n",
    "    u = coordinates[:,:1]\n",
    "    v = coordinates[:,1:]\n",
    "\n",
    "    sampled_points_on_faces = []\n",
    "    sampled_points_on_faces.append(center + R * x_dir * torch.cos(2*torch.pi*u) + R * y_dir * torch.sin(2*torch.pi*u) + axis * v)\n",
    "    sampled_points_on_faces.append(center + r * x_dir * torch.cos(2*torch.pi*u) + r * y_dir * torch.sin(2*torch.pi*u) + axis * v)\n",
    "    return torch.cat(sampled_points_on_faces, dim=0)\n",
    "\n",
    "# assume it doesn't take the height argument\n",
    "def surface(parameters, coordinates):\n",
    "    height = torch.tensor([0.1])\n",
    "    parameters = torch.cat((parameters, height))\n",
    "    return rectangle(parameters, coordinates)\n",
    "\n",
    "def clip(parameters, coordinates):\n",
    "    center = parameters[:3]\n",
    "    axis = parameters[3:6]\n",
    "    # param = sorted(parameters[7:]) # should we assume length >= width >= height?\n",
    "    length = parameters[6]\n",
    "    width = parameters[7]\n",
    "    thickness = parameters[8]\n",
    "    dist = parameters[9]\n",
    "    open_gap = parameters[10]\n",
    "\n",
    "\n",
    "parameters = torch.tensor([0., 0, 0, 0, 0, 1, 5, 3, 270])  # Center (x,y,z), axis (x,y,z), inner radius, outer radius\n",
    "coordinates = torch.rand((1000, 2))\n",
    "points = hook(parameters, coordinates).numpy()\n",
    "# a tube without top and bottom faces?\n",
    "\n",
    "\n",
    "mp.plot(points, shading={'point_size':5})"
   ]
  }
 ],
 "metadata": {
  "kernelspec": {
   "display_name": "brepmatching",
   "language": "python",
   "name": "python3"
  },
  "language_info": {
   "codemirror_mode": {
    "name": "ipython",
    "version": 3
   },
   "file_extension": ".py",
   "mimetype": "text/x-python",
   "name": "python",
   "nbconvert_exporter": "python",
   "pygments_lexer": "ipython3",
   "version": "3.9.18"
  }
 },
 "nbformat": 4,
 "nbformat_minor": 2
}
