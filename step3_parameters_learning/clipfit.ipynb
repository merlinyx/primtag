{
 "cells": [
  {
   "cell_type": "code",
   "execution_count": null,
   "metadata": {},
   "outputs": [],
   "source": [
    "import numpy as np\n",
    "import torch\n",
    "import meshplot as mp # useful for visualizing\n",
    "from matplotlib import pyplot as plt\n",
    "from tqdm.notebook import tqdm\n",
    "import primitive\n",
    "import trimesh"
   ]
  },
  {
   "cell_type": "code",
   "execution_count": null,
   "metadata": {},
   "outputs": [],
   "source": [
    "# Loading a mesh and do uniformly samplings on the surface\n",
    "mesh = trimesh.load_mesh('tube/tube.obj')  # ground truth: [width, height, thickness, dist, open_gap] = [20, 15, 1, 15, 10]\n",
    "\n",
    "# Sample points uniformly from the surface of the mesh\n",
    "points, _ = trimesh.sample.sample_surface_even(mesh, 1000)\n",
    "points_numpy = np.array(points)\n",
    "points_tensor = torch.tensor(points_numpy, dtype=torch.float32)"
   ]
  },
  {
   "cell_type": "code",
   "execution_count": null,
   "metadata": {},
   "outputs": [],
   "source": [
    "# diff. learning on a certain mesh input\n",
    "import pytorch3d \n",
    "from pytorch3d.loss import chamfer_distance\n",
    "\n",
    "opt_params = torch.randn(11)\n",
    "opt_params[-5:] = torch.abs(opt_params[-5:])\n",
    "opt_params.requires_grad = True\n",
    "\n",
    "optimizer = torch.optim.Adam([opt_params], 0.1) # 0.1 is a good lr, 1 is not good\n",
    "\n",
    "uv_coordinates = torch.rand((1000,2))\n",
    "losses = []\n",
    "\n",
    "points_tensor = points_tensor.view(1, -1, 3)\n",
    "\n",
    "\n",
    "for _ in tqdm(range(2000)):\n",
    "    optimizer.zero_grad()\n",
    "    opt_points = primitive.clip(opt_params, uv_coordinates)\n",
    "    opt_points = opt_points.view(1, -1, 3)\n",
    "    \n",
    "    loss = chamfer_distance(x = points_tensor, y = opt_points)\n",
    "    loss = loss[0]\n",
    "    \n",
    "    loss.backward()\n",
    "    optimizer.step()\n",
    "\n",
    "    with torch.no_grad(): \n",
    "        opt_params[-3:] = torch.abs(opt_params[-3:])\n",
    "        # if opt_params[-2] > 2*torch.pi:  # Is this is the error part??? seems to be true\n",
    "        #     opt_params[-2] %= 2*torch.pi\n",
    "        # if opt_params[-1] > opt_params[-3]:\n",
    "        #     opt_params[-1] = opt_params[-3] / 2  # Ensure length is always greater than the radius\n",
    "\n",
    "    losses.append(loss.detach().item())\n",
    "plt.plot(losses)\n",
    "plt.show  # the loss functions looks good but the results is totally wrong, no idea why ......\n"
   ]
  },
  {
   "cell_type": "code",
   "execution_count": null,
   "metadata": {},
   "outputs": [],
   "source": [
    "# compare the original mesh with the optimized mesh\n",
    "points_tensor = points_tensor.reshape(-1, 1, 3)\n",
    "plot = mp.plot(points_tensor.detach().numpy(), return_plot=True, shading={'point_size':2})\n",
    "\n",
    "opt_points = opt_points.reshape(-1, 1, 3)\n",
    "plot.add_points(opt_points.detach().numpy(), shading={'point_size':2, 'point_color':'green'})"
   ]
  },
  {
   "cell_type": "code",
   "execution_count": null,
   "metadata": {},
   "outputs": [],
   "source": [
    "# check opt_params by plotting original mesh with the points cloud got by opt_params\n",
    "plot = mp.plot(points_tensor.detach().numpy(), return_plot=True, shading={'point_size':2})\n",
    "\n",
    "# opt_params is just the final parameters, so we have center, position, radius stored in opt_params\n",
    "coordinates = torch.rand((1000, 2))\n",
    "points = primitive.clip(opt_params, coordinates).detach().numpy()\n",
    "plot.add_points(points, shading={'point_size':2, 'point_color':'green'})\n",
    "# opt_params.detach().numpy()[-2] *= 180 / torch.pi\n",
    "print(opt_params)  ## ground truth: [width, height, thickness, dist, open_gap] = [20, 15, 1, 15, 10]  , center = [0 0 0], orientation = [0 0 1] (z-axis)"
   ]
  },
  {
   "cell_type": "code",
   "execution_count": 1,
   "metadata": {},
   "outputs": [
    {
     "data": {
      "application/vnd.jupyter.widget-view+json": {
       "model_id": "eb58dcf9624642aea28f661f0408f3c9",
       "version_major": 2,
       "version_minor": 0
      },
      "text/plain": [
       "Renderer(camera=PerspectiveCamera(children=(DirectionalLight(color='white', intensity=0.6, position=(0.3671703…"
      ]
     },
     "metadata": {},
     "output_type": "display_data"
    },
    {
     "data": {
      "text/plain": [
       "<meshplot.Viewer.Viewer at 0x1da6a074490>"
      ]
     },
     "execution_count": 1,
     "metadata": {},
     "output_type": "execute_result"
    }
   ],
   "source": [
    "import numpy as np\n",
    "import torch\n",
    "import meshplot as mp # useful for visualizing\n",
    "from matplotlib import pyplot as plt\n",
    "from tqdm.notebook import tqdm\n",
    "import primitive\n",
    "import trimesh\n",
    "coordinates = torch.rand((1000, 2))\n",
    "check = primitive.clip(torch.tensor([0,0,0, 0,0,1, 20, 15, 1, 15, 10], dtype=torch.float32), coordinates).detach().numpy()\n",
    "mp.plot(check, return_plot=True, shading={'point_size':2})"
   ]
  }
 ],
 "metadata": {
  "kernelspec": {
   "display_name": "pythonProject",
   "language": "python",
   "name": "python3"
  },
  "language_info": {
   "codemirror_mode": {
    "name": "ipython",
    "version": 3
   },
   "file_extension": ".py",
   "mimetype": "text/x-python",
   "name": "python",
   "nbconvert_exporter": "python",
   "pygments_lexer": "ipython3",
   "version": "3.10.14"
  }
 },
 "nbformat": 4,
 "nbformat_minor": 2
}
