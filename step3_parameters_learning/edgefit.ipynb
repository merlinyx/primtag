{
 "cells": [
  {
   "cell_type": "code",
   "execution_count": 1,
   "metadata": {},
   "outputs": [],
   "source": [
    "import numpy as np\n",
    "import torch\n",
    "import meshplot as mp # useful for visualizing\n",
    "from matplotlib import pyplot as plt\n",
    "from tqdm.notebook import tqdm\n",
    "import primitive\n",
    "import trimesh"
   ]
  },
  {
   "cell_type": "code",
   "execution_count": 2,
   "metadata": {},
   "outputs": [],
   "source": [
    "# Loading a mesh and do uniformly samplings on the surface\n",
    "mesh = trimesh.load_mesh('edge_surface/edge.obj')  # ground truth: [width, length, height] = [10 20 5] \n",
    "\n",
    "# Sample points uniformly from the surface of the mesh\n",
    "points, _ = trimesh.sample.sample_surface_even(mesh, 1000)\n",
    "points_numpy = np.array(points)\n",
    "points_tensor = torch.tensor(points_numpy, dtype=torch.float32)"
   ]
  },
  {
   "cell_type": "code",
   "execution_count": 3,
   "metadata": {},
   "outputs": [
    {
     "data": {
      "application/vnd.jupyter.widget-view+json": {
       "model_id": "8302cf0f56fe4c50aa1d2d375446ffb8",
       "version_major": 2,
       "version_minor": 0
      },
      "text/plain": [
       "  0%|          | 0/3000 [00:00<?, ?it/s]"
      ]
     },
     "metadata": {},
     "output_type": "display_data"
    },
    {
     "data": {
      "text/plain": [
       "<function matplotlib.pyplot.show(close=None, block=None)>"
      ]
     },
     "execution_count": 3,
     "metadata": {},
     "output_type": "execute_result"
    },
    {
     "data": {
      "image/png": "[encoded data removed]",
      "text/plain": [
       "<Figure size 640x480 with 1 Axes>"
      ]
     },
     "metadata": {},
     "output_type": "display_data"
    }
   ],
   "source": [
    "# diff. learning on a certain mesh input\n",
    "import pytorch3d \n",
    "from pytorch3d.loss import chamfer_distance\n",
    "\n",
    "opt_params = torch.randn(9)\n",
    "opt_params[-3:] = torch.abs(opt_params[-3:])\n",
    "opt_params.requires_grad = True\n",
    "\n",
    "optimizer = torch.optim.Adam([opt_params], 0.1) # 0.1 is a good lr? 10 is not good\n",
    "uv_coordinates = torch.rand((1000,2))\n",
    "losses = []\n",
    "\n",
    "points_tensor = points_tensor.view(1, -1, 3)\n",
    "\n",
    "\n",
    "for _ in tqdm(range(3000)):\n",
    "    optimizer.zero_grad()\n",
    "    opt_points = primitive.cuboid(opt_params, uv_coordinates)\n",
    "    # opt_points = primitive.hemisphere_withBase(opt_params, uv_coordinates)\n",
    "    opt_points = opt_points.view(1, -1, 3)\n",
    "    \n",
    "    loss = chamfer_distance(x = points_tensor, y = opt_points)\n",
    "    loss = loss[0]\n",
    "    \n",
    "    loss.backward()\n",
    "    optimizer.step()\n",
    "\n",
    "    with torch.no_grad(): \n",
    "        opt_params[-1] = torch.abs(opt_params[-1]) \n",
    "\n",
    "    losses.append(loss.detach().item())\n",
    "plt.plot(losses)\n",
    "plt.show\n"
   ]
  },
  {
   "cell_type": "code",
   "execution_count": 4,
   "metadata": {},
   "outputs": [
    {
     "data": {
      "application/vnd.jupyter.widget-view+json": {
       "model_id": "b469e8e4b6204b24b4ab616740a679bd",
       "version_major": 2,
       "version_minor": 0
      },
      "text/plain": [
       "Renderer(camera=PerspectiveCamera(children=(DirectionalLight(color='white', intensity=0.6, position=(0.0, 0.0,…"
      ]
     },
     "metadata": {},
     "output_type": "display_data"
    },
    {
     "data": {
      "text/plain": [
       "1"
      ]
     },
     "execution_count": 4,
     "metadata": {},
     "output_type": "execute_result"
    }
   ],
   "source": [
    "# compare the original mesh with the optimized mesh\n",
    "points_tensor = points_tensor.reshape(-1, 1, 3)\n",
    "plot = mp.plot(points_tensor.detach().numpy(), return_plot=True, shading={'point_size':2})\n",
    "\n",
    "opt_points = opt_points.reshape(-1, 1, 3)\n",
    "plot.add_points(opt_points.detach().numpy(), shading={'point_size':2, 'point_color':'green'})"
   ]
  },
  {
   "cell_type": "code",
   "execution_count": 5,
   "metadata": {},
   "outputs": [
    {
     "data": {
      "application/vnd.jupyter.widget-view+json": {
       "model_id": "8d889a6e2c82446e848e1384f03a9289",
       "version_major": 2,
       "version_minor": 0
      },
      "text/plain": [
       "Renderer(camera=PerspectiveCamera(children=(DirectionalLight(color='white', intensity=0.6, position=(0.0, 0.0,…"
      ]
     },
     "metadata": {},
     "output_type": "display_data"
    },
    {
     "name": "stdout",
     "output_type": "stream",
     "text": [
      "tensor([-2.4223e-02, -6.6652e-03,  1.2041e-02,  4.5967e-03,  6.5600e-03,\n",
      "        -2.5865e+00,  9.9342e+00,  1.9866e+01,  4.9846e+00],\n",
      "       requires_grad=True)\n"
     ]
    }
   ],
   "source": [
    "# check opt_params by plotting original mesh with the points cloud got by opt_params\n",
    "plot = mp.plot(points_tensor.detach().numpy(), return_plot=True, shading={'point_size':2})\n",
    "\n",
    "# opt_params is just the final parameters, so we have center, position, radius stored in opt_params\n",
    "coordinates = torch.rand((1000, 2))\n",
    "points = primitive.cuboid(opt_params, coordinates).detach().numpy()\n",
    "plot.add_points(points, shading={'point_size':2, 'point_color':'green'})\n",
    "print(opt_params)  ## ground truth: [width, length, height] = [10 20 5] , center = [0 0 0], orientation = [0 0 1] (z-axis)"
   ]
  }
 ],
 "metadata": {
  "kernelspec": {
   "display_name": "pythonProject",
   "language": "python",
   "name": "python3"
  },
  "language_info": {
   "codemirror_mode": {
    "name": "ipython",
    "version": 3
   },
   "file_extension": ".py",
   "mimetype": "text/x-python",
   "name": "python",
   "nbconvert_exporter": "python",
   "pygments_lexer": "ipython3",
   "version": "3.10.14"
  }
 },
 "nbformat": 4,
 "nbformat_minor": 2
}
