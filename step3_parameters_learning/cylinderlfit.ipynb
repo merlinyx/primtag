{
 "cells": [
  {
   "cell_type": "code",
   "execution_count": null,
   "metadata": {},
   "outputs": [],
   "source": [
    "import numpy as np\n",
    "import torch\n",
    "import meshplot as mp # useful for visualizing\n",
    "from matplotlib import pyplot as plt\n",
    "from tqdm.notebook import tqdm\n",
    "import primitive\n",
    "import trimesh"
   ]
  },
  {
   "cell_type": "code",
   "execution_count": null,
   "metadata": {},
   "outputs": [],
   "source": [
    "# Loading a mesh and do uniformly samplings on the surface\n",
    "\n",
    "# mesh = trimesh.load_mesh('segmentedRod.obj')\n",
    "mesh = trimesh.load_mesh('rod/segmentedRodCable_segbyUI.obj')\n",
    "\n",
    "# Sample points uniformly from the surface of the mesh\n",
    "points, _ = trimesh.sample.sample_surface_even(mesh, 1000)  # sample normally? \n",
    "points_numpy = np.array(points)\n",
    "points_tensor = torch.tensor(points_numpy, dtype=torch.float32)\n"
   ]
  },
  {
   "cell_type": "code",
   "execution_count": null,
   "metadata": {},
   "outputs": [],
   "source": [
    "# # diff. learning on a certain mesh input\n",
    "\n",
    "# import pytorch3d \n",
    "# from pytorch3d.loss import chamfer_distance\n",
    "\n",
    "# # normal distribution\n",
    "# opt_params_list = []\n",
    "# for i in range(5):\n",
    "#     opt_params = torch.randn(8)\n",
    "#     opt_params[-2:] = torch.abs(opt_params[-2:])\n",
    "#     opt_params.requires_grad = True\n",
    "\n",
    "#     optimizer = torch.optim.Adam([opt_params], 0.1) # 0.1 is a good lr?\n",
    "#     uv_coordinates = torch.rand((1000,2))\n",
    "#     losses = []\n",
    "\n",
    "#     points_tensor = points_tensor.view(1, -1, 3) \n",
    "\n",
    "#     # If the gragh doesn't look good, we need to rerun it.\n",
    "\n",
    "#     for _ in tqdm(range(5000)): # for the progress bar\n",
    "#         optimizer.zero_grad()\n",
    "#         opt_points = primitive.cylinder(opt_params, uv_coordinates)\n",
    "#         opt_points = opt_points.view(1, -1, 3)\n",
    "\n",
    "#         loss = chamfer_distance(x = points_tensor, y = opt_points)\n",
    "#         loss = loss[0]\n",
    "        \n",
    "#         loss.backward()\n",
    "#         optimizer.step()\n",
    "\n",
    "#         with torch.no_grad():  # Perform operations without tracking gradients\n",
    "#             opt_params[-2:] = torch.abs(opt_params[-2:])  # Ensure last two elements are positive\n",
    "#             if opt_params[-1] <= opt_params[-2]:\n",
    "#                 opt_params[-1] = opt_params[-2] + 0.1  # Ensure last element is always greater than the second last\n",
    "\n",
    "            \n",
    "#         losses.append(loss.detach().item())\n",
    "#     plt.plot(losses)\n",
    "#     plt.show\n",
    "#     opt_params_list.append(opt_params.detach().numpy())"
   ]
  },
  {
   "cell_type": "code",
   "execution_count": null,
   "metadata": {},
   "outputs": [],
   "source": [
    "# diff. learning on a certain mesh input\n",
    "\n",
    "import pytorch3d \n",
    "from pytorch3d.loss import chamfer_distance\n",
    "\n",
    "# normal distribution\n",
    "\n",
    "opt_params = torch.randn(8)\n",
    "opt_params[-2:] = torch.abs(opt_params[-2:])\n",
    "opt_params.requires_grad = True\n",
    "\n",
    "optimizer = torch.optim.Adam([opt_params], 0.1) # 0.1 is a good lr?\n",
    "uv_coordinates = torch.rand((1000,2))\n",
    "losses = []\n",
    "\n",
    "points_tensor = points_tensor.view(1, -1, 3) \n",
    "\n",
    "# If the gragh doesn't look good, we need to rerun it.\n",
    "\n",
    "for _ in tqdm(range(5000)): # for the progress bar\n",
    "    optimizer.zero_grad()\n",
    "    opt_points = primitive.cylinder(opt_params, uv_coordinates)\n",
    "    opt_points = opt_points.view(1, -1, 3)\n",
    "\n",
    "    loss = chamfer_distance(x = points_tensor, y = opt_points)\n",
    "    loss = loss[0]\n",
    "    \n",
    "    loss.backward()\n",
    "    optimizer.step()\n",
    "\n",
    "    with torch.no_grad():  # Perform operations without tracking gradients\n",
    "        opt_params[-2:] = torch.abs(opt_params[-2:])  # Ensure radius and length are positive\n",
    "        if opt_params[-1] <= opt_params[-2]:\n",
    "            opt_params[-1] = opt_params[-2] + 0.1  # Ensure length is always greater than the radius\n",
    "\n",
    "    losses.append(loss.detach().item())\n",
    "plt.plot(losses)\n",
    "plt.show\n"
   ]
  },
  {
   "cell_type": "code",
   "execution_count": null,
   "metadata": {},
   "outputs": [],
   "source": [
    "print(np.mean(opt_params_list, axis=0))\n",
    "print(opt_params_list)\n",
    "print(np.std(np.stack(opt_params_list), axis=0))"
   ]
  },
  {
   "cell_type": "code",
   "execution_count": null,
   "metadata": {},
   "outputs": [],
   "source": [
    "# compare the original mesh with the optimized mesh\n",
    "points_tensor = points_tensor.reshape(-1, 1, 3)\n",
    "plot = mp.plot(points_tensor.detach().numpy(), return_plot=True, shading={'point_size':2})\n",
    "\n",
    "opt_points = opt_points.reshape(-1, 1, 3)\n",
    "plot.add_points(opt_points.detach().numpy(), shading={'point_size':2, 'point_color':'green'})\n",
    "print(opt_params)"
   ]
  },
  {
   "cell_type": "code",
   "execution_count": null,
   "metadata": {},
   "outputs": [],
   "source": [
    "# check opt_params by plotting original mesh with the points cloud got by opt_params\n",
    "# orignial mesh points cloud\n",
    "plot = mp.plot(points_tensor.detach().numpy(), return_plot=True, shading={'point_size':2})\n",
    "\n",
    "# optimized mesh points cloud\n",
    "coordinates = torch.rand((1000, 2))\n",
    "# opt_params is just the final parameters, so we have center, position, radius and length stored in opt_params\n",
    "# opt_params.detach().numpy()[-1] = 68\n",
    "points = primitive.cylinder(opt_params, coordinates).detach().numpy()\n",
    "plot.add_points(points, shading={'point_size':2, 'point_color':'green'})\n",
    "print(opt_params)"
   ]
  },
  {
   "cell_type": "code",
   "execution_count": null,
   "metadata": {},
   "outputs": [],
   "source": [
    "# Loading a mesh and do uniformly samplings on the surface\n",
    "mesh = trimesh.load_mesh('rod/segmentedRodCable_segbyUI2.obj')\n",
    "\n",
    "# Sample points uniformly from the surface of the mesh\n",
    "points2, _ = trimesh.sample.sample_surface_even(mesh, 1000)\n",
    "points_numpy2 = np.array(points2)\n",
    "points_tensor2 = torch.tensor(points_numpy2, dtype=torch.float32)\n"
   ]
  },
  {
   "cell_type": "code",
   "execution_count": null,
   "metadata": {},
   "outputs": [],
   "source": [
    "# plot = mp.plot(points_tensor2.reshape(-1, 1, 3).detach().numpy(), return_plot=True, shading={'point_size':1})\n",
    "\n",
    "# coordinates2 = torch.rand((1000, 2))\n",
    "# points2 = primitive.cylinder(torch.tensor([-4.1692504e-03,  2.8632283e-02, -2.0405367e+01, 0, 0, 1,  2.3550220e+00,  1.1063369e+01]), coordinates2).detach().numpy()\n",
    "# plot.add_points(points2, shading={'point_size':1, 'point_color':'green'})"
   ]
  },
  {
   "cell_type": "code",
   "execution_count": null,
   "metadata": {},
   "outputs": [],
   "source": [
    "# diff. learning on a certain mesh input\n",
    "\n",
    "import pytorch3d \n",
    "from pytorch3d.loss import chamfer_distance\n",
    "\n",
    "opt_params_list2 = []\n",
    "for i in range(5):\n",
    "    opt_params2 = torch.randn(8)\n",
    "    opt_params2[-2:] = torch.abs(opt_params2[-2:])\n",
    "    opt_params2.requires_grad = True\n",
    "\n",
    "    optimizer2 = torch.optim.Adam([opt_params2], 0.1) # 1 is a good lr\n",
    "    uv_coordinates2 = torch.rand((1000,2))\n",
    "    losses2 = []\n",
    "\n",
    "    points_tensor2 = points_tensor2.view(1, -1, 3) \n",
    "\n",
    "\n",
    "    for _ in tqdm(range(5000)): # for the progress bar\n",
    "        optimizer2.zero_grad()\n",
    "        opt_points2 = primitive.cylinder(opt_params2, uv_coordinates2)\n",
    "        opt_points2 = opt_points2.view(1, -1, 3)\n",
    "\n",
    "        loss2 = chamfer_distance(x = points_tensor2, y = opt_points2) \n",
    "        loss2 = loss2[0]\n",
    "        \n",
    "        loss2.backward()\n",
    "        optimizer2.step()\n",
    "\n",
    "        with torch.no_grad():\n",
    "            opt_params2[-2:] = torch.abs(opt_params2[-2:]) \n",
    "            if opt_params2[-1] <= opt_params2[-2]:\n",
    "                opt_params2[-1] = opt_params2[-2] + 0.01\n",
    "\n",
    "        losses2.append(loss2.detach().item())\n",
    "    plt.plot(losses2)\n",
    "    plt.show\n",
    "    opt_params_list2.append(opt_params2.detach().numpy())"
   ]
  },
  {
   "cell_type": "code",
   "execution_count": null,
   "metadata": {},
   "outputs": [],
   "source": [
    "print(np.mean(opt_params_list2, axis=0))\n",
    "print(opt_params_list2)\n",
    "print(np.std(np.stack(opt_params_list2), axis=0))"
   ]
  },
  {
   "cell_type": "code",
   "execution_count": null,
   "metadata": {},
   "outputs": [],
   "source": [
    "# same, compare the original mesh with the optimized mesh\n",
    "points_tensor2 = points_tensor2.reshape(-1, 1, 3)\n",
    "plot = mp.plot(points_tensor2.detach().numpy(), return_plot=True, shading={'point_size':2})\n",
    "\n",
    "opt_points2 = opt_points2.reshape(-1, 1, 3)\n",
    "plot.add_points(opt_points2.detach().numpy(), shading={'point_size':2, 'point_color':'green'})\n",
    "print(opt_params2)"
   ]
  },
  {
   "cell_type": "code",
   "execution_count": null,
   "metadata": {},
   "outputs": [],
   "source": [
    "# check opt_params by plotting original mesh with the points cloud got by opt_params\n",
    "# orignial mesh points cloud\n",
    "plot2 = mp.plot(points_tensor2.detach().numpy(), return_plot=True, shading={'point_size':2})\n",
    "\n",
    "# optimized mesh points cloud\n",
    "coordinates2 = torch.rand((1000, 2))\n",
    "# opt_params2.detach().numpy()[-1] = 50\n",
    "points2 = primitive.cylinder(opt_params2, coordinates2).detach().numpy()\n",
    "plot2.add_points(points2, shading={'point_size':2, 'point_color':'green'})\n",
    "print(opt_params2)"
   ]
  },
  {
   "cell_type": "code",
   "execution_count": null,
   "metadata": {},
   "outputs": [],
   "source": [
    "# so we have 3 types of points cloud, the original, the optimzied one, the one got by plugging in optimized parameters"
   ]
  },
  {
   "cell_type": "code",
   "execution_count": null,
   "metadata": {},
   "outputs": [],
   "source": [
    "# red is the the long, original rod\n",
    "plot = mp.plot(points_tensor.detach().numpy(), return_plot=True, shading={'point_size':5})\n",
    "# green is the long, optimized rod\n",
    "plot.add_points(opt_points.detach().numpy(), shading={'point_size':5, 'point_color':'green'})\n",
    "# black is the short, orignial rod\n",
    "plot.add_points(points_tensor2.detach().numpy(), shading={'point_size':5, 'point_color':'black'})\n",
    "# purple is the short optimized rod\n",
    "plot.add_points(opt_points2.detach().numpy(), shading={'point_size':5, 'point_color':'purple'})\n",
    "\n",
    "print(opt_params)\n",
    "print(opt_params2)"
   ]
  },
  {
   "cell_type": "code",
   "execution_count": null,
   "metadata": {},
   "outputs": [],
   "source": [
    "opt_params = opt_params.detach().numpy()\n",
    "opt_params2 = opt_params2.detach().numpy()\n",
    "\n",
    "print(opt_params)  # optimized long rod parameters\n",
    "print(opt_params2)  # optimized short rod parameters"
   ]
  },
  {
   "cell_type": "code",
   "execution_count": null,
   "metadata": {},
   "outputs": [],
   "source": [
    "def compute_l2_distance(vector1, vector2):\n",
    "    return np.linalg.norm(vector1 - vector2)\n",
    "\n",
    "shape_param1 = opt_params[-2:]\n",
    "shape_param2 = opt_params2[-2:]\n",
    "print(compute_l2_distance(shape_param1, shape_param2))\n",
    "\n",
    "position_param1 = opt_params[:3]\n",
    "position_param2 = opt_params2[:3]\n",
    "print(compute_l2_distance(position_param1, position_param2))\n",
    "\n",
    "orientation_param1 = opt_params[3:6]\n",
    "orientation_param2 = opt_params2[3:6]\n",
    "print(compute_l2_distance(orientation_param1, orientation_param2))"
   ]
  }
 ],
 "metadata": {
  "kernelspec": {
   "display_name": "brepmatching",
   "language": "python",
   "name": "python3"
  },
  "language_info": {
   "codemirror_mode": {
    "name": "ipython",
    "version": 3
   },
   "file_extension": ".py",
   "mimetype": "text/x-python",
   "name": "python",
   "nbconvert_exporter": "python",
   "pygments_lexer": "ipython3",
   "version": "3.10.14"
  }
 },
 "nbformat": 4,
 "nbformat_minor": 2
}
