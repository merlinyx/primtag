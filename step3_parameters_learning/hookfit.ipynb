{
 "cells": [
  {
   "cell_type": "code",
   "execution_count": 25,
   "metadata": {},
   "outputs": [],
   "source": [
    "import numpy as np\n",
    "import torch\n",
    "import meshplot as mp # useful for visualizing\n",
    "from matplotlib import pyplot as plt\n",
    "from tqdm.notebook import tqdm\n",
    "import primitive\n",
    "import trimesh"
   ]
  },
  {
   "cell_type": "code",
   "execution_count": 26,
   "metadata": {},
   "outputs": [],
   "source": [
    "# Loading a mesh and do uniformly samplings on the surface\n",
    "mesh = trimesh.load_mesh('hook/hook2.obj')  # ground truth: [arc_radius, arc_angle, thickness] = [50, 270, 5]\n",
    "\n",
    "# Sample points uniformly from the surface of the mesh\n",
    "points, _ = trimesh.sample.sample_surface_even(mesh, 1000)\n",
    "points_numpy = np.array(points)\n",
    "points_tensor = torch.tensor(points_numpy, dtype=torch.float32)"
   ]
  },
  {
   "cell_type": "code",
   "execution_count": 27,
   "metadata": {},
   "outputs": [
    {
     "data": {
      "application/vnd.jupyter.widget-view+json": {
       "model_id": "03aed84821cf42b7b3011fbeda9a4639",
       "version_major": 2,
       "version_minor": 0
      },
      "text/plain": [
       "  0%|          | 0/2000 [00:00<?, ?it/s]"
      ]
     },
     "metadata": {},
     "output_type": "display_data"
    },
    {
     "data": {
      "text/plain": [
       "<function matplotlib.pyplot.show(close=None, block=None)>"
      ]
     },
     "execution_count": 27,
     "metadata": {},
     "output_type": "execute_result"
    },
    {
     "data": {
      "image/png": "[encoded data removed]",
      "text/plain": [
       "<Figure size 640x480 with 1 Axes>"
      ]
     },
     "metadata": {},
     "output_type": "display_data"
    }
   ],
   "source": [
    "# diff. learning on a certain mesh input\n",
    "import pytorch3d \n",
    "from pytorch3d.loss import chamfer_distance\n",
    "\n",
    "opt_params = torch.randn(9)\n",
    "opt_params[-3:] = torch.abs(opt_params[-3:])\n",
    "opt_params[-2] = torch.rand(1) * 2 * torch.pi\n",
    "opt_params[-1] = opt_params[-3] / 2  # make sure thickness is always less than arc radius\n",
    "opt_params.requires_grad = True\n",
    "\n",
    "optimizer = torch.optim.Adam([opt_params], 0.1) # 0.1 is a good lr, 1 is not good\n",
    "scheduler = torch.optim.lr_scheduler.StepLR(optimizer, step_size=50, gamma=0.9)  # Reduce LR every 500 steps\n",
    "\n",
    "uv_coordinates = torch.rand((1000,2))\n",
    "losses = []\n",
    "\n",
    "points_tensor = points_tensor.view(1, -1, 3)\n",
    "\n",
    "\n",
    "for _ in tqdm(range(2000)):\n",
    "    optimizer.zero_grad()\n",
    "    opt_points = primitive.hook(opt_params, uv_coordinates)\n",
    "    opt_points = opt_points.view(1, -1, 3)\n",
    "    \n",
    "    loss = chamfer_distance(x = points_tensor, y = opt_points)\n",
    "    loss = loss[0]\n",
    "    \n",
    "    loss.backward()\n",
    "    torch.nn.utils.clip_grad_norm_([opt_params], max_norm=1.0)\n",
    "    optimizer.step()\n",
    "    scheduler.step()\n",
    "\n",
    "    with torch.no_grad(): \n",
    "        opt_params[-3:] = torch.abs(opt_params[-3:])\n",
    "        if opt_params[-2] > 2*torch.pi:  # Is this is the error part??? seems to be true\n",
    "            opt_params[-2] %= 2*torch.pi\n",
    "        if opt_params[-1] > opt_params[-3]:\n",
    "            opt_params[-1] = opt_params[-3] / 2  # Ensure length is always greater than the radius\n",
    "\n",
    "    losses.append(loss.detach().item())\n",
    "plt.plot(losses)\n",
    "plt.show  # the results is not stable， but much better, don't know how to solve it ......\n"
   ]
  },
  {
   "cell_type": "code",
   "execution_count": 28,
   "metadata": {},
   "outputs": [
    {
     "data": {
      "application/vnd.jupyter.widget-view+json": {
       "model_id": "adda167e9ac742e08d746e1abb0f93df",
       "version_major": 2,
       "version_minor": 0
      },
      "text/plain": [
       "Renderer(camera=PerspectiveCamera(children=(DirectionalLight(color='white', intensity=0.6, position=(0.0, 0.00…"
      ]
     },
     "metadata": {},
     "output_type": "display_data"
    },
    {
     "data": {
      "text/plain": [
       "1"
      ]
     },
     "execution_count": 28,
     "metadata": {},
     "output_type": "execute_result"
    }
   ],
   "source": [
    "# compare the original mesh with the optimized mesh\n",
    "points_tensor = points_tensor.reshape(-1, 1, 3)\n",
    "plot = mp.plot(points_tensor.detach().numpy(), return_plot=True, shading={'point_size':2})\n",
    "\n",
    "opt_points = opt_points.reshape(-1, 1, 3)\n",
    "plot.add_points(opt_points.detach().numpy(), shading={'point_size':2, 'point_color':'green'})"
   ]
  },
  {
   "cell_type": "code",
   "execution_count": 29,
   "metadata": {},
   "outputs": [
    {
     "data": {
      "application/vnd.jupyter.widget-view+json": {
       "model_id": "843da494916c4fca9f3476ddce66916e",
       "version_major": 2,
       "version_minor": 0
      },
      "text/plain": [
       "Renderer(camera=PerspectiveCamera(children=(DirectionalLight(color='white', intensity=0.6, position=(0.0, 0.00…"
      ]
     },
     "metadata": {},
     "output_type": "display_data"
    },
    {
     "name": "stdout",
     "output_type": "stream",
     "text": [
      "tensor([ 3.3356e-02,  1.7635e-01, -5.4202e-02, -1.0000e+00,  8.7571e-04,\n",
      "        -2.5643e-03,  4.9836e+01,  4.7640e+00,  4.8413e+00],\n",
      "       requires_grad=True)\n"
     ]
    }
   ],
   "source": [
    "# check opt_params by plotting original mesh with the points cloud got by opt_params\n",
    "plot = mp.plot(points_tensor.detach().numpy(), return_plot=True, shading={'point_size':2})\n",
    "\n",
    "# opt_params is just the final parameters, so we have center, position, radius stored in opt_params\n",
    "coordinates = torch.rand((1000, 2))\n",
    "points = primitive.hook(opt_params, coordinates).detach().numpy()\n",
    "plot.add_points(points, shading={'point_size':2, 'point_color':'green'})\n",
    "# opt_params.detach().numpy()[-2] *= 180 / torch.pi\n",
    "print(opt_params)  ## ground truth: [arc_radius, arc_angle, thickness] = [50, 270, 5]  , center = [0 0 0], orientation = [1 0 0] (x-axis)(normal to the circle face)"
   ]
  },
  {
   "cell_type": "code",
   "execution_count": 30,
   "metadata": {},
   "outputs": [],
   "source": [
    "# coordinates = torch.rand((1000, 2))\n",
    "# check = primitive.hook(torch.tensor([0,0,0, 0,0,1, 15, 1.3*torch.pi, 4], dtype=torch.float32), coordinates).detach().numpy()\n",
    "# mp.plot(check, return_plot=True, shading={'point_size':2})"
   ]
  }
 ],
 "metadata": {
  "kernelspec": {
   "display_name": "pythonProject",
   "language": "python",
   "name": "python3"
  },
  "language_info": {
   "codemirror_mode": {
    "name": "ipython",
    "version": 3
   },
   "file_extension": ".py",
   "mimetype": "text/x-python",
   "name": "python",
   "nbconvert_exporter": "python",
   "pygments_lexer": "ipython3",
   "version": "3.10.14"
  }
 },
 "nbformat": 4,
 "nbformat_minor": 2
}
