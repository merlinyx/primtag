{
 "cells": [
  {
   "cell_type": "code",
   "execution_count": 5,
   "metadata": {},
   "outputs": [],
   "source": [
    "\n",
    "import numpy as np\n",
    "import torch\n",
    "import meshplot as mp # useful for visualizing\n",
    "from matplotlib import pyplot as plt\n",
    "from tqdm.notebook import tqdm\n",
    "import primitive\n",
    "import primitive_interior\n",
    "import trimesh\n",
    "\n"
   ]
  },
  {
   "cell_type": "code",
   "execution_count": 38,
   "metadata": {},
   "outputs": [],
   "source": [
    "# Parameters:\n",
    "# center (x,y,z), axis (a_x, a_y, a_z), radius\n",
    "# surface parameterization: u,v\n",
    "\n",
    "# Equation:\n",
    "# s(u,v) = C + radius * x_dir cos(u) + radius * y_dir sin(u) + axis * v\n",
    "def cylinder(parameters):\n",
    "    center = parameters[:3]\n",
    "    axis = parameters[3:6]\n",
    "    radius = parameters[6]\n",
    "    length = parameters[7]\n",
    "    z_dir = axis / torch.linalg.norm(axis)\n",
    "\n",
    "    if torch.linalg.norm(z_dir - torch.tensor([1.,0,0])) < .000001:\n",
    "        y_dir = torch.tensor([0,1.,0])\n",
    "    else:\n",
    "        y_dir = torch.cross(z_dir, torch.tensor([1.,0,0]), dim=-1)\n",
    "    x_dir = torch.cross(y_dir, z_dir, dim=-1)\n",
    "\n",
    "    # Calculate rotation angles\n",
    "    angle_x = torch.atan2(x_dir[1], x_dir[0])\n",
    "    angle_y = torch.atan2(y_dir[2], torch.sqrt(y_dir[0]**2 + y_dir[1]**2))\n",
    "    angle_z = torch.atan2(z_dir[1], z_dir[0])\n",
    "\n",
    "    # Calculate translation\n",
    "    translation = center[:3]\n",
    "\n",
    "    random_coords = torch.rand(1000, 3)\n",
    "\n",
    "    u = random_coords[:,0:1]\n",
    "    v = random_coords[:,1:2]\n",
    "\n",
    "    v = v * length - length / 2\n",
    "\n",
    "    return center + radius * x_dir * torch.cos(2*torch.pi*u) + radius * y_dir * torch.sin(2*torch.pi*u) + axis * v, translation, torch.tensor([angle_x, angle_y, angle_z])\n",
    "\n",
    "# It returns a 3-valued tuple, the first element is the regular parameters, the two following ones are translation and rotation.  "
   ]
  },
  {
   "cell_type": "code",
   "execution_count": 43,
   "metadata": {},
   "outputs": [
    {
     "name": "stdout",
     "output_type": "stream",
     "text": [
      "tensor([3., 5., 0.]) tensor([-1.1619, -0.9828,  0.2915])\n"
     ]
    },
    {
     "data": {
      "application/vnd.jupyter.widget-view+json": {
       "model_id": "2cff9ddde89e4f6b853baa50eb0b26a6",
       "version_major": 2,
       "version_minor": 0
      },
      "text/plain": [
       "Renderer(camera=PerspectiveCamera(children=(DirectionalLight(color='white', intensity=0.6, position=(3.5506191…"
      ]
     },
     "metadata": {},
     "output_type": "display_data"
    },
    {
     "data": {
      "text/plain": [
       "\"\\ninit_parameters = torch.tensor([0.,0,0,0,0,6,30])\\npoints_cyl = hemisphere(parameters=init_parameters).numpy()\\nmp.plot(points_cyl, shading={'point_size':2})\\n\""
      ]
     },
     "execution_count": 43,
     "metadata": {},
     "output_type": "execute_result"
    }
   ],
   "source": [
    "\n",
    "init_parameters = torch.tensor([3.,5,0,10,3,2,10, 10])\n",
    "cyl = cylinder(init_parameters)\n",
    "points_cyl = cyl[0].numpy()\n",
    "translation = cyl[1]\n",
    "rotation = cyl[2]\n",
    "print(translation, rotation)\n",
    "mp.plot(points_cyl, shading={'point_size':2})\n",
    "\n",
    "\n",
    "\n",
    "'''\n",
    "init_parameters = torch.tensor([0.,0,0,0,0,6,10, 3])\n",
    "points_cyl = torus(init_parameters).numpy()\n",
    "mp.plot(points_cyl, shading={'point_size':2})\n",
    "'''\n",
    "'''\n",
    "init_parameters = torch.tensor([0.,0,0,0,0,6,50, 30, 20])\n",
    "points_cyl = rectangle(parameters=init_parameters).numpy()\n",
    "mp.plot(points_cyl, shading={'point_size':2})\n",
    "'''\n",
    "'''\n",
    "init_parameters = torch.tensor([0.,0,0,0,0,6,30])\n",
    "points_cyl = hemisphere(parameters=init_parameters).numpy()\n",
    "mp.plot(points_cyl, shading={'point_size':2})\n",
    "'''"
   ]
  },
  {
   "cell_type": "code",
   "execution_count": 10,
   "metadata": {},
   "outputs": [
    {
     "data": {
      "application/vnd.jupyter.widget-view+json": {
       "model_id": "59c35666d9cb438ca4ae9d5f99fe68f3",
       "version_major": 2,
       "version_minor": 0
      },
      "text/plain": [
       "Renderer(camera=PerspectiveCamera(children=(DirectionalLight(color='white', intensity=0.6, position=(4.6134185…"
      ]
     },
     "metadata": {},
     "output_type": "display_data"
    },
    {
     "data": {
      "text/plain": [
       "<meshplot.Viewer.Viewer at 0x152d80430>"
      ]
     },
     "execution_count": 10,
     "metadata": {},
     "output_type": "execute_result"
    }
   ],
   "source": [
    "# Loading a mesh and do uniformly samplings on the surface\n",
    "\n",
    "# mesh = trimesh.load_mesh('slack_files/clip_20_15_1_15_10.obj')\n",
    "# mesh = trimesh.load_mesh('cloth_hanger.obj')\n",
    "mesh = trimesh.load_mesh('step2/reduced_mesh/segmentedRod.obj')\n",
    "\n",
    "# Sample points uniformly from the surface of the mesh\n",
    "points, _ = trimesh.sample.sample_surface_even(mesh, 1000)  # sample normally? \n",
    "points_numpy = np.array(points)\n",
    "points_tensor = torch.tensor(points_numpy, dtype=torch.float32)\n",
    "\n",
    "\n",
    "mp.plot(points_numpy, shading={'point_size': 5})\n"
   ]
  },
  {
   "cell_type": "code",
   "execution_count": 34,
   "metadata": {},
   "outputs": [
    {
     "data": {
      "application/vnd.jupyter.widget-view+json": {
       "model_id": "9490e97fb86a47da9f35f24521d14799",
       "version_major": 2,
       "version_minor": 0
      },
      "text/plain": [
       "  0%|          | 0/3000 [00:00<?, ?it/s]"
      ]
     },
     "metadata": {},
     "output_type": "display_data"
    },
    {
     "data": {
      "text/plain": [
       "<function matplotlib.pyplot.show(close=None, block=None)>"
      ]
     },
     "execution_count": 34,
     "metadata": {},
     "output_type": "execute_result"
    },
    {
     "data": {
      "image/png": "[encoded data removed]",
      "text/plain": [
       "<Figure size 640x480 with 1 Axes>"
      ]
     },
     "metadata": {},
     "output_type": "display_data"
    }
   ],
   "source": [
    "# diff. learning on a certain mesh input\n",
    "\n",
    "import pytorch3d \n",
    "from pytorch3d.loss import chamfer_distance\n",
    "\n",
    "# opt_parameters_init_stage = torch.tensor([0.,0,0, 1,1,1,1]) # an initial parameter close to the given param\n",
    "# normal distribution\n",
    "opt_params = torch.randn(8) # <==== ALSO change this line\n",
    "opt_params.requires_grad = True\n",
    "\n",
    "optimizer = torch.optim.Adam([opt_params], 100) # 100 is a good lr\n",
    "losses = []\n",
    "\n",
    "points_tensor = points_tensor.view(1, -1, 3) \n",
    "\n",
    "for _ in tqdm(range(3000)): # for the progress bar\n",
    "    optimizer.zero_grad()\n",
    "    opt_points = cylinder(opt_params) # <==== THIS line is what should be changed for different primitive\n",
    "    opt_points = opt_points.view(1, -1, 3)\n",
    "\n",
    "    # loss = ((points - opt_points)**2).sum() # TODO: change to champfer loss | volume matrix sampling | closed meshes?\n",
    "    loss = chamfer_distance(x = points_tensor, y = opt_points) # returns a 2-element tuple? I suppose the first element is what we want\n",
    "    loss = loss[0]\n",
    "    \n",
    "    loss.backward()\n",
    "    optimizer.step()\n",
    "    losses.append(loss.detach().item())\n",
    "plt.plot(losses)\n",
    "plt.show"
   ]
  },
  {
   "cell_type": "code",
   "execution_count": 35,
   "metadata": {},
   "outputs": [
    {
     "data": {
      "application/vnd.jupyter.widget-view+json": {
       "model_id": "47bc18e8d20d4a65a63b4284b49bc316",
       "version_major": 2,
       "version_minor": 0
      },
      "text/plain": [
       "Renderer(camera=PerspectiveCamera(children=(DirectionalLight(color='white', intensity=0.6, position=(4.6134185…"
      ]
     },
     "metadata": {},
     "output_type": "display_data"
    },
    {
     "name": "stdout",
     "output_type": "stream",
     "text": [
      "torch.Size([1000, 1, 3])\n",
      "tensor([ 4.4989e+00, -2.5474e+01,  7.3235e+00, -5.2890e+01, -5.2547e-01,\n",
      "        -2.7464e-01, -3.0950e+02, -5.7150e+00], requires_grad=True)\n"
     ]
    }
   ],
   "source": [
    "points_tensor = points_tensor.reshape(-1, 1, 3)\n",
    "# plot = mp.plot(points.numpy(), return_plot=True, shading={'point_size':.5})\n",
    "plot = mp.plot(points_tensor.detach().numpy(), return_plot=True, shading={'point_size':5})\n",
    "\n",
    "opt_points = opt_points.reshape(-1, 1, 3)\n",
    "plot.add_points(opt_points.detach().numpy(), shading={'point_size':5, 'point_color':'green'})\n",
    "print(opt_points.shape)\n",
    "print(opt_params)"
   ]
  },
  {
   "cell_type": "code",
   "execution_count": 36,
   "metadata": {},
   "outputs": [
    {
     "name": "stdout",
     "output_type": "stream",
     "text": [
      "tensor([  6.3240, -25.4864,   7.5974,   1.0000,   0.0000,   0.0000,   3.4427,\n",
      "        302.6579])\n",
      "tensor([  4.4950, -25.4525,   7.5549,   1.0000,   0.0000,   0.0000,   3.7431,\n",
      "        302.1064])\n"
     ]
    }
   ],
   "source": [
    "import numpy as np\n",
    "from sklearn.decomposition import PCA\n",
    "import torch\n",
    "import matplotlib.pyplot as plt\n",
    "\n",
    "def parameter(opt_points):\n",
    "    # Assuming opt_points is a [N, 3] tensor\n",
    "    opt_points_np = opt_points.detach().cpu().numpy().reshape(-1, 3)\n",
    "\n",
    "    pca = PCA(n_components=3)\n",
    "    pca.fit(opt_points_np)\n",
    "    directions = pca.components_ \n",
    "    # print(directions)\n",
    "\n",
    "    # find x-axis (assuming the longest component is x)\n",
    "    x_axis_index = np.argmax(np.abs(directions[:, 0]))\n",
    "    x_direction = directions[x_axis_index]  # x_axis_index is 0\n",
    "\n",
    "    # calculate the center\n",
    "    center = np.mean(opt_points_np, axis=0)\n",
    "\n",
    "    # Project points onto the x_direction to find length and find the cylinder length\n",
    "    projection_lengths = np.dot(opt_points_np - center, x_direction)\n",
    "    min_proj, max_proj = np.min(projection_lengths), np.max(projection_lengths)\n",
    "    cylinder_length = max_proj - min_proj\n",
    "\n",
    "    # compute radius by considering the distance of points from the cylinder axis\n",
    "    # project points onto the orthogonal plane\n",
    "    orthogonal_projection = np.cross(opt_points_np - center, x_direction)\n",
    "    radius = np.mean(np.linalg.norm(orthogonal_projection, axis=1))  # Mean radius\n",
    "    return torch.tensor([center[0], center[1], center[2], 1, 0, 0, radius, cylinder_length], dtype=torch.float32)\n",
    "\n",
    "# This opt_points is founder due to optimizing the cloud points above\n",
    "# Which one should we use? What is the point of using ML to optimize the point cloud?\n",
    "parameters = parameter(torch.clone(opt_points))\n",
    "parameters2 = parameter(torch.clone(points_tensor))\n",
    "print(parameters)\n",
    "print(parameters2)\n"
   ]
  },
  {
   "cell_type": "code",
   "execution_count": 37,
   "metadata": {},
   "outputs": [
    {
     "name": "stdout",
     "output_type": "stream",
     "text": [
      "tensor([  6.3240, -25.4864,   7.5974,   1.0000,   0.0000,   0.0000,   3.4427,\n",
      "        302.6579])\n",
      "tensor([  4.4950, -25.4525,   7.5549,   1.0000,   0.0000,   0.0000,   3.7431,\n",
      "        302.1064])\n"
     ]
    },
    {
     "data": {
      "application/vnd.jupyter.widget-view+json": {
       "model_id": "85d7fbeefae747c6bfb4d82ad83de1c9",
       "version_major": 2,
       "version_minor": 0
      },
      "text/plain": [
       "Renderer(camera=PerspectiveCamera(children=(DirectionalLight(color='white', intensity=0.6, position=(4.6134185…"
      ]
     },
     "metadata": {},
     "output_type": "display_data"
    },
    {
     "data": {
      "text/plain": [
       "2"
      ]
     },
     "execution_count": 37,
     "metadata": {},
     "output_type": "execute_result"
    }
   ],
   "source": [
    "print(parameters)\n",
    "print(parameters2)\n",
    "\n",
    "points = cylinder(parameters).numpy()\n",
    "points2 = cylinder(parameters2).numpy()\n",
    "\n",
    "\n",
    "# mp.plot(points, shading={'point_size':5})\n",
    "\n",
    "plot = mp.plot(points_tensor.detach().numpy(), return_plot=True, shading={'point_size':5})\n",
    "\n",
    "# points_tensor: original points \n",
    "# opt_points: the optimal cylinder learned from ML\n",
    "# points: the cylinder from the parameters learned from Mingsheng's model applied on opt_points\n",
    "# points2: the cylinder from the parameters learned from Mingsheng's model applied on points_tensor\n",
    "\n",
    "\n",
    "# opt_points = opt_points.reshape(-1, 1, 3)\n",
    "plot.add_points(points, shading={'point_size':5, 'point_color':'green'}) # Mingshegn(my(input))\n",
    "plot.add_points(points2, shading={'point_size':5, 'point_color':'blue'}) # Mingsheng(input)\n"
   ]
  }
 ],
 "metadata": {
  "kernelspec": {
   "display_name": "brepmatching",
   "language": "python",
   "name": "python3"
  },
  "language_info": {
   "codemirror_mode": {
    "name": "ipython",
    "version": 3
   },
   "file_extension": ".py",
   "mimetype": "text/x-python",
   "name": "python",
   "nbconvert_exporter": "python",
   "pygments_lexer": "ipython3",
   "version": "3.9.18"
  }
 },
 "nbformat": 4,
 "nbformat_minor": 2
}
